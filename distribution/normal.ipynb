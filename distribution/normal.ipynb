{
 "metadata": {
  "language_info": {
   "codemirror_mode": {
    "name": "ipython",
    "version": 3
   },
   "file_extension": ".py",
   "mimetype": "text/x-python",
   "name": "python",
   "nbconvert_exporter": "python",
   "pygments_lexer": "ipython3",
   "version": "3.8.2-final"
  },
  "orig_nbformat": 2,
  "kernelspec": {
   "name": "python3",
   "display_name": "Python 3.8.2 64-bit ('.venv')",
   "metadata": {
    "interpreter": {
     "hash": "2a7acadf40a29ae910a0ed4cc58bc8e6a664ea8d9d762ec859010a585ce73bc3"
    }
   }
  }
 },
 "nbformat": 4,
 "nbformat_minor": 2,
 "cells": [
  {
   "source": [
    "# 正規分布\n",
    "\n",
    "## 確率密度関数\n",
    "$$$\n",
    "    f(x ; \\mu, \\sigma) = \\frac{1}{\\sqrt{2\\pi}\\sigma} \\exp \\left\\{-\\frac{(x-\\mu)^{2}}{2\\sigma^{2}}\\right\\}\n",
    "$$$"
   ],
   "cell_type": "markdown",
   "metadata": {}
  },
  {
   "cell_type": "code",
   "execution_count": 29,
   "metadata": {},
   "outputs": [],
   "source": [
    "from ipywidgets import interact\n",
    "import numpy as np\n",
    "import plotly.graph_objects as go\n",
    "\n",
    "PI = np.arcsin(1)*2"
   ]
  },
  {
   "cell_type": "code",
   "execution_count": 34,
   "metadata": {},
   "outputs": [
    {
     "output_type": "display_data",
     "data": {
      "text/plain": "interactive(children=(FloatSlider(value=0.0, description='mu', max=5.0, min=-5.0), FloatSlider(value=1.0, desc…",
      "application/vnd.jupyter.widget-view+json": {
       "version_major": 2,
       "version_minor": 0,
       "model_id": "97d47d5cfbdf4a9b8de669c2a7ff854d"
      }
     },
     "metadata": {}
    },
    {
     "output_type": "display_data",
     "data": {
      "text/plain": "FigureWidget({\n    'data': [{'type': 'scatter',\n              'uid': '3aae345a-9c58-47aa-a718-f5bb4f39c696',\n …",
      "application/vnd.jupyter.widget-view+json": {
       "version_major": 2,
       "version_minor": 0,
       "model_id": "da8c8445dc774632abd3b633b98c0a78"
      }
     },
     "metadata": {}
    }
   ],
   "source": [
    "fig = go.FigureWidget()\n",
    "fig.add_scatter()\n",
    "\n",
    "xs=np.linspace(-10, 10, 1000)\n",
    "\n",
    "@interact(mu=(-5.0, 5.0, 0.1), sigma=(0.1, 10, 0.1))\n",
    "def normal(mu=0, sigma=1.0):\n",
    "    with fig.batch_update():\n",
    "        scatt = fig.data[0]\n",
    "        scatt.x=xs\n",
    "        scatt.y=1/(np.sqrt(2*PI)*sigma) * np.exp(-(xs-mu)**2/(2*sigma**2))\n",
    "\n",
    "fig"
   ]
  },
  {
   "cell_type": "code",
   "execution_count": null,
   "metadata": {},
   "outputs": [],
   "source": []
  }
 ]
}