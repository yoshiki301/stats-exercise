{
 "metadata": {
  "language_info": {
   "codemirror_mode": {
    "name": "ipython",
    "version": 3
   },
   "file_extension": ".py",
   "mimetype": "text/x-python",
   "name": "python",
   "nbconvert_exporter": "python",
   "pygments_lexer": "ipython3",
   "version": "3.8.2-final"
  },
  "orig_nbformat": 2,
  "kernelspec": {
   "name": "python3",
   "display_name": "Python 3.8.2 64-bit ('.venv')",
   "metadata": {
    "interpreter": {
     "hash": "2a7acadf40a29ae910a0ed4cc58bc8e6a664ea8d9d762ec859010a585ce73bc3"
    }
   }
  }
 },
 "nbformat": 4,
 "nbformat_minor": 2,
 "cells": [
  {
   "cell_type": "code",
   "execution_count": 12,
   "metadata": {},
   "outputs": [],
   "source": [
    "from ipywidgets import interact\n",
    "import numpy as np\n",
    "import scipy.special as sc # ガンマ関数, ベータ関数\n",
    "import plotly.graph_objects as go\n",
    "\n",
    "PI = np.arcsin(1)*2"
   ]
  },
  {
   "source": [
    "# 正規分布\n",
    "\n",
    "## 確率密度関数\n",
    "$$$\n",
    "    f(x ; \\mu, \\sigma) = \\frac{1}{\\sqrt{2\\pi}\\sigma} \\exp \\left\\{-\\frac{(x-\\mu)^{2}}{2\\sigma^{2}}\\right\\}\n",
    "$$$"
   ],
   "cell_type": "markdown",
   "metadata": {}
  },
  {
   "cell_type": "code",
   "execution_count": 13,
   "metadata": {},
   "outputs": [
    {
     "output_type": "display_data",
     "data": {
      "text/plain": "interactive(children=(FloatSlider(value=0.0, description='mu', max=5.0, min=-5.0), FloatSlider(value=1.0, desc…",
      "application/vnd.jupyter.widget-view+json": {
       "version_major": 2,
       "version_minor": 0,
       "model_id": "f0f766cb1d1f4940bb1a8b2e064cb024"
      }
     },
     "metadata": {}
    },
    {
     "output_type": "display_data",
     "data": {
      "text/plain": "FigureWidget({\n    'data': [{'type': 'scatter',\n              'uid': 'e6696cad-2b50-4439-b2db-ce2248036429',\n …",
      "application/vnd.jupyter.widget-view+json": {
       "version_major": 2,
       "version_minor": 0,
       "model_id": "2a16f1acc4b24dd4a79950cf347d629c"
      }
     },
     "metadata": {}
    }
   ],
   "source": [
    "fig_normal = go.FigureWidget()\n",
    "fig_normal.add_scatter()\n",
    "\n",
    "xs_normal = np.linspace(-10, 10, 1000)\n",
    "\n",
    "@interact(mu=(-5.0, 5.0, 0.1), sigma=(0.1, 10, 0.1))\n",
    "def normal(mu=0, sigma=1.0):\n",
    "    with fig_normal.batch_update():\n",
    "        scatt = fig_normal.data[0]\n",
    "        scatt.x = xs_normal\n",
    "        scatt.y = 1/(np.sqrt(2*PI)*sigma) * np.exp(-(xs_normal-mu)**2/(2*sigma**2))\n",
    "\n",
    "fig_normal"
   ]
  },
  {
   "source": [
    "# 対数正規分布\n",
    "### 確率密度関数\n",
    "\n",
    "$$$\n",
    "    f(x ; \\mu, \\sigma) = \\frac{1}{\\sqrt{2\\pi}\\sigma x} \\exp \\left\\{-\\frac{(\\ln x-\\mu)^{2}}{2\\sigma^{2}}\\right\\}\n",
    "$$$"
   ],
   "cell_type": "markdown",
   "metadata": {}
  },
  {
   "cell_type": "code",
   "execution_count": 16,
   "metadata": {},
   "outputs": [
    {
     "output_type": "display_data",
     "data": {
      "text/plain": "interactive(children=(FloatSlider(value=0.0, description='mu', max=3.0, min=-3.0), FloatSlider(value=1.0, desc…",
      "application/vnd.jupyter.widget-view+json": {
       "version_major": 2,
       "version_minor": 0,
       "model_id": "6dc5e1c177be4849a382d1ee3e80cea9"
      }
     },
     "metadata": {}
    },
    {
     "output_type": "display_data",
     "data": {
      "text/plain": "FigureWidget({\n    'data': [{'type': 'scatter',\n              'uid': 'abaf6a5c-e3d0-4c38-825c-5b87a6d812d9',\n …",
      "application/vnd.jupyter.widget-view+json": {
       "version_major": 2,
       "version_minor": 0,
       "model_id": "198f66f8b50d4a68a5e6a3f76ee7c3d6"
      }
     },
     "metadata": {}
    }
   ],
   "source": [
    "fig_lognormal = go.FigureWidget()\n",
    "fig_lognormal.add_scatter()\n",
    "\n",
    "xs_lognormal = np.linspace(0.01, 10, 500)\n",
    "\n",
    "@interact(mu=(-3.0, 3.0, 0.1), sigma=(0.1, 5, 0.1))\n",
    "def lognormal(mu=0, sigma=1.0):\n",
    "    with fig_lognormal.batch_update():\n",
    "        scatt = fig_lognormal.data[0]\n",
    "        # どのようなパラメータに対してもx=0においてf(x)=0\n",
    "        scatt.x = np.concatenate([np.array([0]), xs_lognormal])\n",
    "        scatt.y = np.concatenate([np.array([0]), 1/(np.sqrt(2*PI)*sigma*xs_lognormal) * np.exp(-(np.log(xs_lognormal)-mu)**2/(2*sigma**2))])\n",
    "\n",
    "fig_lognormal"
   ]
  },
  {
   "source": [
    "# 指数分布\n",
    "### 確率密度関数\n",
    "\n",
    "$$$\n",
    "    f(x ; \\lambda) = \\lambda e^{-\\lambda x}\n",
    "$$$"
   ],
   "cell_type": "markdown",
   "metadata": {}
  },
  {
   "cell_type": "code",
   "execution_count": 22,
   "metadata": {},
   "outputs": [
    {
     "output_type": "display_data",
     "data": {
      "text/plain": "interactive(children=(FloatSlider(value=1.0, description='_lambda', max=5.0, min=0.1), Output()), _dom_classes…",
      "application/vnd.jupyter.widget-view+json": {
       "version_major": 2,
       "version_minor": 0,
       "model_id": "fd14cd9389b9466d99650652ed52086f"
      }
     },
     "metadata": {}
    },
    {
     "output_type": "display_data",
     "data": {
      "text/plain": "FigureWidget({\n    'data': [{'type': 'scatter',\n              'uid': 'eccbfd46-0f5c-48e8-b6ce-2078a1b5a60e',\n …",
      "application/vnd.jupyter.widget-view+json": {
       "version_major": 2,
       "version_minor": 0,
       "model_id": "ac5c3418f35149029bdf9431cd510997"
      }
     },
     "metadata": {}
    }
   ],
   "source": [
    "fig_exponential = go.FigureWidget()\n",
    "fig_exponential.add_scatter()\n",
    "\n",
    "xs_exponential = np.linspace(0, 5, 500)\n",
    "\n",
    "@interact(_lambda=(0.1, 5.0, 0.1))\n",
    "def exponential(_lambda=1.0):\n",
    "    with fig_exponential.batch_update():\n",
    "        scatt = fig_exponential.data[0]\n",
    "        scatt.x = xs_exponential\n",
    "        scatt.y = _lambda*np.exp(-_lambda*xs_exponential)\n",
    "\n",
    "fig_exponential"
   ]
  },
  {
   "source": [
    "# ガンマ分布\n",
    "### 確率密度関数\n",
    "\n",
    "$$$\n",
    "    f(x ; k, \\theta) = \\frac{1}{\\Gamma (k)\\theta^{k}}x^{k-1}e^{-\\frac{x}{\\theta}}\n",
    "$$$"
   ],
   "cell_type": "markdown",
   "metadata": {}
  },
  {
   "cell_type": "code",
   "execution_count": 11,
   "metadata": {},
   "outputs": [
    {
     "output_type": "display_data",
     "data": {
      "text/plain": "interactive(children=(FloatSlider(value=1.0, description='k', max=5.0, min=0.1), FloatSlider(value=1.0, descri…",
      "application/vnd.jupyter.widget-view+json": {
       "version_major": 2,
       "version_minor": 0,
       "model_id": "38bd88df61294a78969ca2ea0be2a99a"
      }
     },
     "metadata": {}
    },
    {
     "output_type": "display_data",
     "data": {
      "text/plain": "FigureWidget({\n    'data': [{'type': 'scatter',\n              'uid': '7d297c9e-2ca9-4eda-92ee-c3883c59212b',\n …",
      "application/vnd.jupyter.widget-view+json": {
       "version_major": 2,
       "version_minor": 0,
       "model_id": "8b22672a76ed427c880e2fb4002c0fde"
      }
     },
     "metadata": {}
    }
   ],
   "source": [
    "fig_gamma = go.FigureWidget()\n",
    "fig_gamma.add_scatter()\n",
    "\n",
    "xs_gamma = np.linspace(0, 10, 1000)\n",
    "\n",
    "@interact(k=(0.1, 5.0, 0.1), theta=(0.1, 5.0, 0.1))\n",
    "def gamma(k=1.0, theta=1.0):\n",
    "    with fig_gamma.batch_update():\n",
    "        scatt = fig_gamma.data[0]\n",
    "        scatt.x = xs_gamma\n",
    "        scatt.y = 1/(sc.gamma(k)*(theta**k))*(xs_gamma**(k-1))*np.exp(-xs_gamma/theta)\n",
    "\n",
    "fig_gamma"
   ]
  },
  {
   "source": [
    "# ベータ分布\n",
    "### 確率密度関数\n",
    "\n",
    "$$$\n",
    "    f(x ; \\alpha, \\beta) = \\frac{1}{B(\\alpha, \\beta)}x^{\\alpha-1}(1-x)^{\\beta-1},~~~(0\\leqq x\\leqq 1)\n",
    "$$$"
   ],
   "cell_type": "markdown",
   "metadata": {}
  },
  {
   "cell_type": "code",
   "execution_count": 26,
   "metadata": {},
   "outputs": [
    {
     "output_type": "display_data",
     "data": {
      "text/plain": "interactive(children=(FloatSlider(value=1.2, description='alpha', max=5.0, min=0.1), FloatSlider(value=1.2, de…",
      "application/vnd.jupyter.widget-view+json": {
       "version_major": 2,
       "version_minor": 0,
       "model_id": "d7da26e2cca944a49aa2881f0ef00991"
      }
     },
     "metadata": {}
    },
    {
     "output_type": "display_data",
     "data": {
      "text/plain": "FigureWidget({\n    'data': [{'type': 'scatter',\n              'uid': '5546b7af-6e82-4804-beaa-0facbe97e937',\n …",
      "application/vnd.jupyter.widget-view+json": {
       "version_major": 2,
       "version_minor": 0,
       "model_id": "510f58fae588439792dfa318ab9ddb0e"
      }
     },
     "metadata": {}
    }
   ],
   "source": [
    "fig_beta = go.FigureWidget()\n",
    "fig_beta.add_scatter()\n",
    "\n",
    "xs_beta = np.linspace(0, 1, 500)\n",
    "\n",
    "@interact(alpha=(0.1, 5.0, 0.1), beta=(0.1, 5.0, 0.1))\n",
    "def beta(alpha=1.2, beta=1.2):\n",
    "    with fig_beta.batch_update():\n",
    "        scatt = fig_beta.data[0]\n",
    "        scatt.x = xs_beta\n",
    "        scatt.y = (1/sc.beta(alpha, beta))*(xs_beta**(alpha-1))*((1-xs_beta)**(beta-1))\n",
    "\n",
    "fig_beta"
   ]
  },
  {
   "cell_type": "code",
   "execution_count": null,
   "metadata": {},
   "outputs": [],
   "source": []
  }
 ]
}