{
 "metadata": {
  "language_info": {
   "codemirror_mode": {
    "name": "ipython",
    "version": 3
   },
   "file_extension": ".py",
   "mimetype": "text/x-python",
   "name": "python",
   "nbconvert_exporter": "python",
   "pygments_lexer": "ipython3",
   "version": "3.8.2-final"
  },
  "orig_nbformat": 2,
  "kernelspec": {
   "name": "python3",
   "display_name": "Python 3.8.2 64-bit ('.venv')",
   "metadata": {
    "interpreter": {
     "hash": "2a7acadf40a29ae910a0ed4cc58bc8e6a664ea8d9d762ec859010a585ce73bc3"
    }
   }
  }
 },
 "nbformat": 4,
 "nbformat_minor": 2,
 "cells": [
  {
   "cell_type": "code",
   "execution_count": 28,
   "metadata": {},
   "outputs": [],
   "source": [
    "from ipywidgets import interact\n",
    "import numpy as np\n",
    "import scipy.special as sc\n",
    "import plotly.graph_objects as go\n",
    "\n",
    "PI = np.arcsin(1)*2"
   ]
  },
  {
   "source": [
    "# 正規分布\n",
    "\n",
    "## 確率密度関数\n",
    "$$$\n",
    "    f(x ; \\mu, \\sigma) = \\frac{1}{\\sqrt{2\\pi}\\sigma} \\exp \\left\\{-\\frac{(x-\\mu)^{2}}{2\\sigma^{2}}\\right\\}\n",
    "$$$"
   ],
   "cell_type": "markdown",
   "metadata": {}
  },
  {
   "cell_type": "code",
   "execution_count": 12,
   "metadata": {},
   "outputs": [
    {
     "output_type": "display_data",
     "data": {
      "text/plain": "interactive(children=(FloatSlider(value=0.0, description='mu', max=5.0, min=-5.0), FloatSlider(value=1.0, desc…",
      "application/vnd.jupyter.widget-view+json": {
       "version_major": 2,
       "version_minor": 0,
       "model_id": "50e949d500fc4fbbb107d9a5e634889d"
      }
     },
     "metadata": {}
    },
    {
     "output_type": "display_data",
     "data": {
      "text/plain": "FigureWidget({\n    'data': [{'type': 'scatter',\n              'uid': '1696795c-7e92-4ae9-99aa-285fbce4a3f7',\n …",
      "application/vnd.jupyter.widget-view+json": {
       "version_major": 2,
       "version_minor": 0,
       "model_id": "335bb2ff003d4576b4aa156dadd5f69b"
      }
     },
     "metadata": {}
    }
   ],
   "source": [
    "fig = go.FigureWidget()\n",
    "fig.add_scatter()\n",
    "\n",
    "xs=np.linspace(-10, 10, 1000)\n",
    "\n",
    "@interact(mu=(-5.0, 5.0, 0.1), sigma=(0.1, 10, 0.1))\n",
    "def normal(mu=0, sigma=1.0):\n",
    "    with fig.batch_update():\n",
    "        scatt = fig.data[0]\n",
    "        scatt.x=xs\n",
    "        scatt.y=1/(np.sqrt(2*PI)*sigma) * np.exp(-(xs-mu)**2/(2*sigma**2))\n",
    "\n",
    "fig"
   ]
  },
  {
   "source": [
    "# 対数正規分布\n",
    "### 確率密度関数\n",
    "\n",
    "$$$\n",
    "    f(x ; \\mu, \\sigma) = \\frac{1}{\\sqrt{2\\pi}\\sigma x} \\exp \\left\\{-\\frac{(\\ln x-\\mu)^{2}}{2\\sigma^{2}}\\right\\}\n",
    "$$$"
   ],
   "cell_type": "markdown",
   "metadata": {}
  },
  {
   "cell_type": "code",
   "execution_count": 11,
   "metadata": {},
   "outputs": [
    {
     "output_type": "display_data",
     "data": {
      "text/plain": "interactive(children=(FloatSlider(value=0.0, description='mu', max=3.0, min=-3.0), FloatSlider(value=1.0, desc…",
      "application/vnd.jupyter.widget-view+json": {
       "version_major": 2,
       "version_minor": 0,
       "model_id": "be14591210bf48e2a4e38a764f12da44"
      }
     },
     "metadata": {}
    },
    {
     "output_type": "display_data",
     "data": {
      "text/plain": "FigureWidget({\n    'data': [{'type': 'scatter',\n              'uid': '2f2e241a-0d4d-48eb-948a-bc3b23f037ac',\n …",
      "application/vnd.jupyter.widget-view+json": {
       "version_major": 2,
       "version_minor": 0,
       "model_id": "5b29b38e6757429dafa8f049872c9b35"
      }
     },
     "metadata": {}
    }
   ],
   "source": [
    "fig = go.FigureWidget()\n",
    "fig.add_scatter()\n",
    "\n",
    "xs=np.linspace(0.01, 10, 500)\n",
    "\n",
    "@interact(mu=(-3.0, 3.0, 0.1), sigma=(0.1, 5, 0.1))\n",
    "def log_normal(mu=0, sigma=1.0):\n",
    "    with fig.batch_update():\n",
    "        scatt = fig.data[0]\n",
    "        scatt.x=xs\n",
    "        scatt.y=1/(np.sqrt(2*PI)*sigma*xs) * np.exp(-(np.log(xs)-mu)**2/(2*sigma**2))\n",
    "\n",
    "fig"
   ]
  },
  {
   "source": [
    "# 指数分布\n",
    "### 確率密度関数\n",
    "\n",
    "$$$\n",
    "    f(x ; \\lambda) = \\lambda e^{-\\lambda x}\n",
    "$$$"
   ],
   "cell_type": "markdown",
   "metadata": {}
  },
  {
   "cell_type": "code",
   "execution_count": 19,
   "metadata": {},
   "outputs": [
    {
     "output_type": "display_data",
     "data": {
      "text/plain": "interactive(children=(FloatSlider(value=1.0, description='_lambda', max=5.0, min=0.1), Output()), _dom_classes…",
      "application/vnd.jupyter.widget-view+json": {
       "version_major": 2,
       "version_minor": 0,
       "model_id": "166475af60724745855fa1453efb8e27"
      }
     },
     "metadata": {}
    },
    {
     "output_type": "display_data",
     "data": {
      "text/plain": "FigureWidget({\n    'data': [{'type': 'scatter',\n              'uid': 'f1531558-d66d-4035-a29e-7be86ce260a7',\n …",
      "application/vnd.jupyter.widget-view+json": {
       "version_major": 2,
       "version_minor": 0,
       "model_id": "e8d49f16460d4e0097b15f59ae3ca474"
      }
     },
     "metadata": {}
    }
   ],
   "source": [
    "fig = go.FigureWidget()\n",
    "fig.add_scatter()\n",
    "\n",
    "xs=np.linspace(0, 5, 500)\n",
    "\n",
    "@interact(_lambda=(0.1, 5.0, 0.1))\n",
    "def exponential(_lambda=1.0):\n",
    "    with fig.batch_update():\n",
    "        scatt = fig.data[0]\n",
    "        scatt.x=xs\n",
    "        scatt.y=_lambda*np.exp(-_lambda*xs)\n",
    "\n",
    "fig"
   ]
  },
  {
   "source": [
    "# ガンマ分布\n",
    "### 確率密度関数\n",
    "\n",
    "$$$\n",
    "    f(x ; k, \\theta) = \\frac{1}{\\Gamma (k)\\theta^{k}}x^{k-1}e^{-\\frac{x}{\\theta}}\n",
    "$$$"
   ],
   "cell_type": "markdown",
   "metadata": {}
  },
  {
   "cell_type": "code",
   "execution_count": 29,
   "metadata": {},
   "outputs": [
    {
     "output_type": "display_data",
     "data": {
      "text/plain": "interactive(children=(FloatSlider(value=1.0, description='k', max=5.0, min=0.1), FloatSlider(value=1.0, descri…",
      "application/vnd.jupyter.widget-view+json": {
       "version_major": 2,
       "version_minor": 0,
       "model_id": "ec7dfb6f855b49fe8e8a95e9a07c4d4f"
      }
     },
     "metadata": {}
    },
    {
     "output_type": "display_data",
     "data": {
      "text/plain": "FigureWidget({\n    'data': [{'type': 'scatter',\n              'uid': 'fe38bb43-456b-4536-abe7-a2287074ce81',\n …",
      "application/vnd.jupyter.widget-view+json": {
       "version_major": 2,
       "version_minor": 0,
       "model_id": "4f39e380f7434635b19be186bdfd1966"
      }
     },
     "metadata": {}
    }
   ],
   "source": [
    "fig = go.FigureWidget()\n",
    "fig.add_scatter()\n",
    "\n",
    "xs=np.linspace(0, 10, 1000)\n",
    "\n",
    "@interact(k=(0.1, 5.0, 0.1), theta=(0.1, 5.0, 0.1))\n",
    "def gamma(k=1.0, theta=1.0):\n",
    "    with fig.batch_update():\n",
    "        scatt = fig.data[0]\n",
    "        scatt.x=xs\n",
    "        scatt.y=1/(sc.gamma(k)*(theta**k))*(xs**(k-1))*np.exp(-xs/theta)\n",
    "\n",
    "fig"
   ]
  },
  {
   "source": [
    "# ベータ分布\n",
    "### 確率密度関数\n",
    "\n",
    "$$$\n",
    "    f(x ; \\alpha, \\beta) = \\frac{1}{B(\\alpha, \\beta)}x^{\\alpha-1}(1-x)^{\\beta-1}\n",
    "$$$"
   ],
   "cell_type": "markdown",
   "metadata": {}
  },
  {
   "cell_type": "code",
   "execution_count": 30,
   "metadata": {},
   "outputs": [
    {
     "output_type": "display_data",
     "data": {
      "text/plain": "interactive(children=(FloatSlider(value=1.0, description='alpha', max=5.0, min=0.1), FloatSlider(value=1.0, de…",
      "application/vnd.jupyter.widget-view+json": {
       "version_major": 2,
       "version_minor": 0,
       "model_id": "fc845f357160433b838246cd3e9e07c1"
      }
     },
     "metadata": {}
    },
    {
     "output_type": "display_data",
     "data": {
      "text/plain": "FigureWidget({\n    'data': [{'type': 'scatter',\n              'uid': '2e2a8472-7b78-4fcb-89b3-2205e7fbe905',\n …",
      "application/vnd.jupyter.widget-view+json": {
       "version_major": 2,
       "version_minor": 0,
       "model_id": "fb5d3f1d1dcf41aca04a382cb651d263"
      }
     },
     "metadata": {}
    }
   ],
   "source": [
    "fig = go.FigureWidget()\n",
    "fig.add_scatter()\n",
    "\n",
    "xs=np.linspace(0, 1, 100)\n",
    "\n",
    "@interact(alpha=(0.1, 5.0, 0.1), beta=(0.1, 5.0, 0.1))\n",
    "def beta(alpha=1.0, beta=1.0):\n",
    "    with fig.batch_update():\n",
    "        scatt = fig.data[0]\n",
    "        scatt.x=xs\n",
    "        scatt.y=(1/sc.beta(alpha, beta))*(xs**(alpha-1))*((1-xs)**(beta-1))\n",
    "\n",
    "fig"
   ]
  },
  {
   "cell_type": "code",
   "execution_count": null,
   "metadata": {},
   "outputs": [],
   "source": []
  }
 ]
}